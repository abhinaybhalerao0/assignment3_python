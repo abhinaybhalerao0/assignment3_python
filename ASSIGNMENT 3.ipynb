{
 "cells": [
  {
   "cell_type": "code",
   "execution_count": 1,
   "id": "9eff2acb-5217-4c1f-8c84-23ae9473bf96",
   "metadata": {},
   "outputs": [
    {
     "name": "stdin",
     "output_type": "stream",
     "text": [
      "enter the value. -25.98\n"
     ]
    },
    {
     "name": "stdout",
     "output_type": "stream",
     "text": [
      "no. is negative\n"
     ]
    }
   ],
   "source": [
    "###1. Write a Python Program to Check if a Number is Positive, Negative or Zero?\n",
    "num = float(input(\"enter the value.\"))\n",
    "\n",
    "if num > 0:\n",
    "    print(\"no. is positive\")\n",
    "    \n",
    "if num == 0:\n",
    "    print(\"zero\")\n",
    "    \n",
    "if num < 0:\n",
    "    print(\"no. is negative\")"
   ]
  },
  {
   "cell_type": "code",
   "execution_count": 2,
   "id": "57e5a1c5-e0d1-4284-9937-4a3645d50ba7",
   "metadata": {},
   "outputs": [
    {
     "name": "stdin",
     "output_type": "stream",
     "text": [
      "enter the no. 31\n"
     ]
    },
    {
     "name": "stdout",
     "output_type": "stream",
     "text": [
      "given no is odd\n"
     ]
    }
   ],
   "source": [
    "### 2. Write a Python Program to Check if a Number is Odd or Even?\n",
    "num1 = int(input(\"enter the no.\"))\n",
    "           \n",
    "if num1 % 2 ==0:\n",
    "           print(\"given no is even\")\n",
    "else:\n",
    "           print(\"given no is odd\")"
   ]
  },
  {
   "cell_type": "code",
   "execution_count": 3,
   "id": "6e7b5205-f5fa-4d3c-ad9a-2d70de2d7838",
   "metadata": {},
   "outputs": [
    {
     "name": "stdin",
     "output_type": "stream",
     "text": [
      "enter the year 2050\n"
     ]
    },
    {
     "name": "stdout",
     "output_type": "stream",
     "text": [
      "given year is not a leap year\n"
     ]
    }
   ],
   "source": [
    "### 3. Write a Python Program to Check Leap Year?\n",
    "year = int(input(\"enter the year\"))\n",
    "\n",
    "if (year % 4 == 0) and (year % 100 !=0 or year % 400 == 0):\n",
    "    print(\"given year is leap year\")\n",
    "    \n",
    "else:\n",
    "    print(\"given year is not a leap year\")"
   ]
  },
  {
   "cell_type": "code",
   "execution_count": 11,
   "id": "dd8360df-2b2a-4975-bf4a-d22877265cd1",
   "metadata": {},
   "outputs": [
    {
     "name": "stdin",
     "output_type": "stream",
     "text": [
      "enter the no. 4\n"
     ]
    },
    {
     "name": "stdout",
     "output_type": "stream",
     "text": [
      "4 the given no is not a prime no\n"
     ]
    }
   ],
   "source": [
    "### 4. Write a Python Program to Check Prime Number?\n",
    "num2 = int(input(\"enter the no.\"))\n",
    "\n",
    "if num2 > 1:\n",
    "    for i in range(2, num2):\n",
    "        if (num2 % i) == 0:\n",
    "            print(num2, \"the given no is not a prime no\")\n",
    "            break\n",
    "            \n",
    "    else:\n",
    "        print(num2, \"the given no. is prime no\")\n",
    "    \n",
    "else:\n",
    "    print(num2, \"the given no. is not a prime no\")\n",
    "            "
   ]
  },
  {
   "cell_type": "code",
   "execution_count": 1,
   "id": "9fc83282-9a3e-4e34-83cc-5d8a666ddf73",
   "metadata": {},
   "outputs": [
    {
     "name": "stdout",
     "output_type": "stream",
     "text": [
      "prime no. between 1 and 10000 are\n"
     ]
    }
   ],
   "source": [
    "##5. Write a Python Program to Print all Prime Numbers in an Interval of 1-10000?\n",
    "lower = 1\n",
    "upper = 10000\n",
    "\n",
    "print(\"prime no. between\", lower, \"and\", upper, \"are\")\n",
    "\n",
    "for num in range(lower, upper+1):\n",
    "    if num>1:\n",
    "        for i in range(2, num):\n",
    "            if (num%i) == 0:\n",
    "                break\n",
    "                "
   ]
  },
  {
   "cell_type": "code",
   "execution_count": null,
   "id": "864a18b3-6956-4e9c-a429-4218022b6356",
   "metadata": {},
   "outputs": [],
   "source": []
  }
 ],
 "metadata": {
  "kernelspec": {
   "display_name": "Python 3 (ipykernel)",
   "language": "python",
   "name": "python3"
  },
  "language_info": {
   "codemirror_mode": {
    "name": "ipython",
    "version": 3
   },
   "file_extension": ".py",
   "mimetype": "text/x-python",
   "name": "python",
   "nbconvert_exporter": "python",
   "pygments_lexer": "ipython3",
   "version": "3.10.6"
  }
 },
 "nbformat": 4,
 "nbformat_minor": 5
}
